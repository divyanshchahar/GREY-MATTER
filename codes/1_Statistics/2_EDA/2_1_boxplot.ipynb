{
 "cells": [
  {
   "cell_type": "markdown",
   "metadata": {},
   "source": [
    "<h1> <u> EXPLORATORY DATA ANALYSIS - CHAPTER-2 - DEMO-1</u> </h1>\n",
    "<h2> <u> Box Plots </u> </h2>\n",
    "\n",
    "In this demo we will perform the following operations:\n",
    "\n",
    "- Title:\n",
    "    - Set the title as\"Boxplot\", set the fontsize as 20 and put the title at 0.25 units below the graph\n",
    "    \n",
    "- x-axis operations:\n",
    "    - Set the x-tick marks fontsize to 10, rotation to 0 and horizontal alingment to center\n",
    "\n",
    "- y-axis operations:\n",
    "    - set the y-axis fontsize to 10\n",
    "\n",
    "- Eliminate the top and right hand spine"
   ]
  },
  {
   "cell_type": "markdown",
   "metadata": {},
   "source": [
    "<h6> Importing Libraries </h6>"
   ]
  },
  {
   "cell_type": "code",
   "execution_count": 1,
   "metadata": {},
   "outputs": [],
   "source": [
    "import pandas as pd\n",
    "import matplotlib.pyplot as plt"
   ]
  },
  {
   "cell_type": "markdown",
   "metadata": {},
   "source": [
    "<h6> Reading the dataset </h6>"
   ]
  },
  {
   "cell_type": "code",
   "execution_count": 2,
   "metadata": {},
   "outputs": [],
   "source": [
    "df = pd.read_csv(\"housing.csv\")"
   ]
  },
  {
   "cell_type": "markdown",
   "metadata": {},
   "source": [
    "<h6> CreatingVariables </h6>"
   ]
  },
  {
   "cell_type": "code",
   "execution_count": 3,
   "metadata": {},
   "outputs": [],
   "source": [
    "v1 = df[\"median_house_value\"]\n",
    "v2 = df[\"total_rooms\"]"
   ]
  },
  {
   "cell_type": "markdown",
   "metadata": {},
   "source": [
    "<h6> Plotting the Graph </h6>"
   ]
  },
  {
   "cell_type": "code",
   "execution_count": 4,
   "metadata": {
    "scrolled": true
   },
   "outputs": [
    {
     "data": {
      "image/png": "[encoded data removed]",
      "text/plain": [
       "<Figure size 432x288 with 1 Axes>"
      ]
     },
     "metadata": {
      "needs_background": "light"
     },
     "output_type": "display_data"
    }
   ],
   "source": [
    "fig, ax = plt.subplots()\n",
    "\n",
    "ax.boxplot([v1, v2], labels = [\"Median House Value\", \"Total Number of Rooms\"])\n",
    "\n",
    "plt.title(\"Boxplot\", fontsize=20, y=0.25)\n",
    "\n",
    "# # X-axis Operations\n",
    "plt.xticks(fontsize=10, rotation=0, ha='center') # x-tick marks\n",
    "\n",
    "# # Y-axis operations\n",
    "plt.yticks(fontsize=10) # y-tick marks\n",
    "\n",
    "\n",
    "# # Eliminating the spine\n",
    "ax.spines['right'].set_visible(False) # eliminating right border\n",
    "ax.spines['top'].set_visible(False) # eliminating top border\n",
    "\n",
    "plt.show()"
   ]
  },
  {
   "cell_type": "markdown",
   "metadata": {},
   "source": [
    "<div class=\"alert alert-box alert-info\">\n",
    "    <b>note</b> : This project will make use of <b> <i> matplotlib </i> </b> for visualization, however it is the obligation of the author ot point out that seaborn is also a very popular visualization library. \n",
    "</div>"
   ]
  }
 ],
 "metadata": {
  "kernelspec": {
   "display_name": "Python 3",
   "language": "python",
   "name": "python3"
  },
  "language_info": {
   "codemirror_mode": {
    "name": "ipython",
    "version": 3
   },
   "file_extension": ".py",
   "mimetype": "text/x-python",
   "name": "python",
   "nbconvert_exporter": "python",
   "pygments_lexer": "ipython3",
   "version": "3.7.7"
  }
 },
 "nbformat": 4,
 "nbformat_minor": 4
}
