{
 "cells": [
  {
   "cell_type": "markdown",
   "metadata": {},
   "source": [
    "<h1> <u> EXPLORATORY DATA ANALYSIS - CHAPTER-2 - DEMO-4</u> </h1>\n",
    "<h2> <u> Univariate Graphical EDA </u> </h2>"
   ]
  },
  {
   "cell_type": "markdown",
   "metadata": {},
   "source": [
    "<h6> Importing Libraries </h6>"
   ]
  },
  {
   "cell_type": "code",
   "execution_count": 1,
   "metadata": {},
   "outputs": [],
   "source": [
    "import numpy as np\n",
    "import matplotlib.pyplot as plt\n",
    "import random\n",
    "import pandas as pd"
   ]
  },
  {
   "cell_type": "markdown",
   "metadata": {},
   "source": [
    "<h3><u> 1.Scatter Plot(Strong Positive Relationship) </u></h3>\n",
    "<h6> Creating Dataset </h6>"
   ]
  },
  {
   "cell_type": "code",
   "execution_count": 2,
   "metadata": {},
   "outputs": [],
   "source": [
    "m = 2\n",
    "c = 0\n",
    "\n",
    "X_1 = np.arange(0,100)\n",
    "Y_1 = []\n",
    "for memeber in X_1:\n",
    "    temp = (m*memeber)+c\n",
    "    Y_1.append(temp)"
   ]
  },
  {
   "cell_type": "markdown",
   "metadata": {},
   "source": [
    "<h6> Plotting Graph </h6>"
   ]
  },
  {
   "cell_type": "code",
   "execution_count": 3,
   "metadata": {
    "scrolled": false
   },
   "outputs": [
    {
     "data": {
      "image/png": "[encoded data removed]",
      "text/plain": [
       "<Figure size 432x288 with 1 Axes>"
      ]
     },
     "metadata": {
      "needs_background": "light"
     },
     "output_type": "display_data"
    }
   ],
   "source": [
    "fig, ax = plt.subplots()\n",
    "\n",
    "plt.scatter(X_1, Y_1, marker=\".\")\n",
    "\n",
    "# X-axis Operations\n",
    "plt.xticks(fontsize=10, rotation=0, ha='center') # tick-marks\n",
    "ax.set_xlabel(\"x\", fontsize=12) # x-label\n",
    "\n",
    "# Y-axis operations\n",
    "plt.yticks(fontsize=10) # y-tick marks\n",
    "ax.set_ylabel(\"y\", fontsize=12) #y-label\n",
    "\n",
    "# Eliminating the spine\n",
    "ax.spines['right'].set_visible(False) # eliminating right border\n",
    "ax.spines['top'].set_visible(False) # eliminating top border\n",
    "\n",
    "plt.savefig(\"scatterplot_strong_positive_example.pdf\", bbox_inches=\"tight\")"
   ]
  },
  {
   "cell_type": "markdown",
   "metadata": {},
   "source": [
    "<h6> Printing Correlation Value </h6>"
   ]
  },
  {
   "cell_type": "code",
   "execution_count": 4,
   "metadata": {},
   "outputs": [
    {
     "name": "stdout",
     "output_type": "stream",
     "text": [
      "0.9999999999999999\n"
     ]
    }
   ],
   "source": [
    "print(np.corrcoef(X_1, Y_1)[0,0])"
   ]
  },
  {
   "cell_type": "markdown",
   "metadata": {},
   "source": [
    "<h3><u> 2.Scatter Plot(Weak Positive Relationship) </u></h3>\n",
    "<h6> Creating Dataset </h6>"
   ]
  },
  {
   "cell_type": "code",
   "execution_count": 5,
   "metadata": {},
   "outputs": [],
   "source": [
    "Y_2 = []\n",
    "for i in range(0, len(Y_1)):\n",
    "    Y_2.append(Y_1[i] + random.uniform(-100,100))"
   ]
  },
  {
   "cell_type": "markdown",
   "metadata": {},
   "source": [
    "<h6> Plotting the Graph </h6>"
   ]
  },
  {
   "cell_type": "code",
   "execution_count": 6,
   "metadata": {
    "scrolled": true
   },
   "outputs": [
    {
     "data": {
      "image/png": "[encoded data removed]",
      "text/plain": [
       "<Figure size 432x288 with 1 Axes>"
      ]
     },
     "metadata": {
      "needs_background": "light"
     },
     "output_type": "display_data"
    }
   ],
   "source": [
    "fig, ax = plt.subplots()\n",
    "\n",
    "plt.scatter(X_1, Y_2, marker=\".\")\n",
    "\n",
    "# X-axis Operations\n",
    "plt.xticks(fontsize=10, rotation=0, ha='center') # tick-marks\n",
    "ax.set_xlabel(\"x\", fontsize=12) # x-label\n",
    "\n",
    "# Y-axis operations\n",
    "plt.yticks(fontsize=10) # y-tick marks\n",
    "ax.set_ylabel(\"y\", fontsize=12) #y-label\n",
    "\n",
    "# Eliminating the spine\n",
    "ax.spines['right'].set_visible(False) # eliminating right border\n",
    "ax.spines['top'].set_visible(False) # eliminating top border\n",
    "\n",
    "plt.savefig(\"scatterplot_weak_positive_example.pdf\", bbox_inches=\"tight\")"
   ]
  },
  {
   "cell_type": "markdown",
   "metadata": {},
   "source": [
    "<h6> Printing Correlation Value </h6>"
   ]
  },
  {
   "cell_type": "code",
   "execution_count": 7,
   "metadata": {},
   "outputs": [
    {
     "name": "stdout",
     "output_type": "stream",
     "text": [
      "0.7748636141777914\n"
     ]
    }
   ],
   "source": [
    "print(np.corrcoef(X_1, Y_2)[0,1])"
   ]
  },
  {
   "cell_type": "markdown",
   "metadata": {},
   "source": [
    "<h3><u> 3. Scatter Plot (Strong Negitive Realtionship) </u></h3>\n",
    "<h6> Creating Dataset </h3>"
   ]
  },
  {
   "cell_type": "code",
   "execution_count": 8,
   "metadata": {},
   "outputs": [],
   "source": [
    "m = -2\n",
    "c = 0\n",
    "\n",
    "X_3 = np.arange(0,100)\n",
    "Y_3 = []\n",
    "for memeber in X_1:\n",
    "    temp = (m*memeber)+c\n",
    "    Y_3.append(temp)"
   ]
  },
  {
   "cell_type": "markdown",
   "metadata": {},
   "source": [
    "<h6> Plotting the graph </h6>"
   ]
  },
  {
   "cell_type": "code",
   "execution_count": 9,
   "metadata": {},
   "outputs": [
    {
     "data": {
      "image/png": "[encoded data removed]",
      "text/plain": [
       "<Figure size 432x288 with 1 Axes>"
      ]
     },
     "metadata": {
      "needs_background": "light"
     },
     "output_type": "display_data"
    }
   ],
   "source": [
    "fig, ax = plt.subplots()\n",
    "\n",
    "plt.scatter(X_3, Y_3, marker=\".\")\n",
    "\n",
    "# X-axis Operations\n",
    "plt.xticks(fontsize=10, rotation=0, ha='center') # tick-marks\n",
    "ax.set_xlabel(\"x\", fontsize=12) # x-label\n",
    "\n",
    "# Y-axis operations\n",
    "plt.yticks(fontsize=10) # y-tick marks\n",
    "ax.set_ylabel(\"y\", fontsize=12) #y-label\n",
    "\n",
    "# Eliminating the spine\n",
    "ax.spines['right'].set_visible(False) # eliminating right border\n",
    "ax.spines['top'].set_visible(False) # eliminating top border\n",
    "\n",
    "plt.savefig(\"scatterplot_strong_negitive_example.pdf\", bbox_inches=\"tight\")"
   ]
  },
  {
   "cell_type": "code",
   "execution_count": 10,
   "metadata": {},
   "outputs": [
    {
     "name": "stdout",
     "output_type": "stream",
     "text": [
      "-0.9999999999999999\n"
     ]
    }
   ],
   "source": [
    "print(np.corrcoef(X_3, Y_3)[0,1])"
   ]
  },
  {
   "cell_type": "markdown",
   "metadata": {},
   "source": [
    "<h3><u> 4.Scatter Plot(Weak Negitive Relationship) </u></h3>\n",
    "<h6> Creating Dataset </h6>"
   ]
  },
  {
   "cell_type": "code",
   "execution_count": 11,
   "metadata": {},
   "outputs": [],
   "source": [
    "Y_4 = []\n",
    "for i in range(0, len(Y_3)):\n",
    "    Y_4.append(Y_3[i] - random.uniform(1,100))"
   ]
  },
  {
   "cell_type": "markdown",
   "metadata": {},
   "source": [
    "<h6> Plotting the Graph </h6>"
   ]
  },
  {
   "cell_type": "code",
   "execution_count": 12,
   "metadata": {},
   "outputs": [
    {
     "data": {
      "image/png": "[encoded data removed]",
      "text/plain": [
       "<Figure size 432x288 with 1 Axes>"
      ]
     },
     "metadata": {
      "needs_background": "light"
     },
     "output_type": "display_data"
    }
   ],
   "source": [
    "fig, ax = plt.subplots()\n",
    "\n",
    "plt.scatter(X_3, Y_4, marker=\".\")\n",
    "\n",
    "# X-axis Operations\n",
    "plt.xticks(fontsize=10, rotation=0, ha='center') # tick-marks\n",
    "ax.set_xlabel(\"x\", fontsize=12) # x-label\n",
    "\n",
    "# Y-axis operations\n",
    "plt.yticks(fontsize=10) # y-tick marks\n",
    "ax.set_ylabel(\"y\", fontsize=12) #y-label\n",
    "\n",
    "# Eliminating the spine\n",
    "ax.spines['right'].set_visible(False) # eliminating right border\n",
    "ax.spines['top'].set_visible(False) # eliminating top border\n",
    "\n",
    "plt.savefig(\"scatterplot_weak_negitive_example.pdf\", bbox_inches=\"tight\")"
   ]
  },
  {
   "cell_type": "markdown",
   "metadata": {},
   "source": [
    "<h6> Printing Correlation Value </h6>"
   ]
  },
  {
   "cell_type": "code",
   "execution_count": 13,
   "metadata": {},
   "outputs": [
    {
     "name": "stdout",
     "output_type": "stream",
     "text": [
      "-0.8960977578554872\n"
     ]
    }
   ],
   "source": [
    "print(np.corrcoef(X_3, Y_4)[0,-1])"
   ]
  }
 ],
 "metadata": {
  "kernelspec": {
   "display_name": "Python 3",
   "language": "python",
   "name": "python3"
  },
  "language_info": {
   "codemirror_mode": {
    "name": "ipython",
    "version": 3
   },
   "file_extension": ".py",
   "mimetype": "text/x-python",
   "name": "python",
   "nbconvert_exporter": "python",
   "pygments_lexer": "ipython3",
   "version": "3.7.7"
  }
 },
 "nbformat": 4,
 "nbformat_minor": 4
}
