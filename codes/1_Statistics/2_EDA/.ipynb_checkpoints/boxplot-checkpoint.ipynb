{
 "cells": [
  {
   "cell_type": "markdown",
   "metadata": {},
   "source": [
    "<h1> <u> EXPLORATORY DATA ANALYSIS - CHAPTER-2 - DEMO-1</u> </h1>\n",
    "<h2> <u> Univariate Graphical EDA </u> </h2>\n",
    "<h3> <u> Box Plots </u> </h3>"
   ]
  },
  {
   "cell_type": "markdown",
   "metadata": {},
   "source": [
    "<h6> Importing Libraries </h6>"
   ]
  },
  {
   "cell_type": "code",
   "execution_count": 1,
   "metadata": {},
   "outputs": [],
   "source": [
    "import pandas as pd\n",
    "import matplotlib.pyplot as plt"
   ]
  },
  {
   "cell_type": "code",
   "execution_count": 2,
   "metadata": {},
   "outputs": [],
   "source": [
    "df = pd.read_csv(\"housing.csv\")"
   ]
  },
  {
   "cell_type": "code",
   "execution_count": 3,
   "metadata": {},
   "outputs": [],
   "source": [
    "v1 = df[\"median_house_value\"]\n",
    "v2 = df[\"total_rooms\"]"
   ]
  },
  {
   "cell_type": "code",
   "execution_count": 4,
   "metadata": {},
   "outputs": [
    {
     "data": {
      "image/png": "[encoded data removed]",
      "text/plain": [
       "<Figure size 432x288 with 1 Axes>"
      ]
     },
     "metadata": {
      "needs_background": "light"
     },
     "output_type": "display_data"
    }
   ],
   "source": [
    "fig, ax = plt.subplots()\n",
    "\n",
    "ax.boxplot([v1, v2], labels = [\"Median House Value\", \"Total Number of Rooms\"])\n",
    "\n",
    "plt.title(\"Boxplot\", fontsize=20, y=-0.25)\n",
    "\n",
    "# # X-axis Operations\n",
    "plt.xticks(fontsize=10, rotation=0, ha='center') # tick-marks\n",
    "\n",
    "# # Y-axis operations\n",
    "plt.yticks(fontsize=10) # y-tick marks\n",
    "\n",
    "\n",
    "# # Eliminating the spine\n",
    "ax.spines['right'].set_visible(False) # eliminating right border\n",
    "ax.spines['top'].set_visible(False) # eliminating top border\n",
    "\n",
    "plt.show()"
   ]
  }
 ],
 "metadata": {
  "kernelspec": {
   "display_name": "Python 3",
   "language": "python",
   "name": "python3"
  },
  "language_info": {
   "codemirror_mode": {
    "name": "ipython",
    "version": 3
   },
   "file_extension": ".py",
   "mimetype": "text/x-python",
   "name": "python",
   "nbconvert_exporter": "python",
   "pygments_lexer": "ipython3",
   "version": "3.7.7"
  }
 },
 "nbformat": 4,
 "nbformat_minor": 4
}
