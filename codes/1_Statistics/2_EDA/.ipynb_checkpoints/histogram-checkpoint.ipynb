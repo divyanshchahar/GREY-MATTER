{
 "cells": [
  {
   "cell_type": "markdown",
   "metadata": {},
   "source": [
    "<h1> <u> EXPLORATORY DATA ANALYSIS - CHAPTER-2 - DEMO-2</u> </h1>\n",
    "<h2> <u> Univariate Graphical EDA </u> </h2>\n",
    "<h3> <u> Histogram </u> </h3>"
   ]
  },
  {
   "cell_type": "markdown",
   "metadata": {},
   "source": [
    "<h6> Importing Libraries </h6>"
   ]
  },
  {
   "cell_type": "code",
   "execution_count": 1,
   "metadata": {},
   "outputs": [],
   "source": [
    "import pandas as pd\n",
    "import matplotlib.pyplot as plt\n",
    "import numpy as np"
   ]
  },
  {
   "cell_type": "markdown",
   "metadata": {},
   "source": [
    "<h6> Creating Dataset</h6>"
   ]
  },
  {
   "cell_type": "code",
   "execution_count": 2,
   "metadata": {},
   "outputs": [],
   "source": [
    "df1 = [82,76,24,40,67,62,75,78,71,32,98,89,78,67,72,82,87,66,56,52]\n",
    "df2 = [42,36,24,40,67,62,45,58,41,32,48,49,38,57,42,72,57,56,56,43]"
   ]
  },
  {
   "cell_type": "markdown",
   "metadata": {},
   "source": [
    "<h6> Plotting Graph </h6>"
   ]
  },
  {
   "cell_type": "code",
   "execution_count": 3,
   "metadata": {
    "scrolled": true
   },
   "outputs": [
    {
     "data": {
      "image/png": "[encoded data removed]",
      "text/plain": [
       "<Figure size 432x288 with 1 Axes>"
      ]
     },
     "metadata": {
      "needs_background": "light"
     },
     "output_type": "display_data"
    }
   ],
   "source": [
    "fig, ax = plt.subplots()\n",
    "\n",
    "plt.hist(df1, # Dataset\n",
    "         bins = int(np.sqrt(len(df1))), #Number of bins\n",
    "         histtype='bar',#type of histogram\n",
    "         edgecolor='k', #outline color for bars\n",
    "         label='Test score data') # Label\n",
    "\n",
    "plt.title(\"Histogram of Scores\", fontsize=20, y=-0.25)\n",
    "\n",
    "# X-axis Operations\n",
    "plt.xticks(fontsize=10, rotation=0, ha='center') # tick-marks\n",
    "ax.set_xlabel(\"scores\", fontsize=12) # x-label\n",
    "\n",
    "# Y-axis operations\n",
    "plt.yticks(fontsize=10) # y-tick marks\n",
    "ax.set_ylabel(\"frequency\", fontsize=12) #y-label\n",
    "\n",
    "# Eliminating the spine\n",
    "ax.spines['right'].set_visible(False) # eliminating right border\n",
    "ax.spines['top'].set_visible(False) # eliminating top border\n",
    "\n",
    "plt.legend(fontsize=12,loc=\"center\", bbox_to_anchor=(0.5, 1.1))  # Legend\n",
    "\n",
    "plt.show()"
   ]
  }
 ],
 "metadata": {
  "kernelspec": {
   "display_name": "Python 3",
   "language": "python",
   "name": "python3"
  },
  "language_info": {
   "codemirror_mode": {
    "name": "ipython",
    "version": 3
   },
   "file_extension": ".py",
   "mimetype": "text/x-python",
   "name": "python",
   "nbconvert_exporter": "python",
   "pygments_lexer": "ipython3",
   "version": "3.7.7"
  }
 },
 "nbformat": 4,
 "nbformat_minor": 4
}
