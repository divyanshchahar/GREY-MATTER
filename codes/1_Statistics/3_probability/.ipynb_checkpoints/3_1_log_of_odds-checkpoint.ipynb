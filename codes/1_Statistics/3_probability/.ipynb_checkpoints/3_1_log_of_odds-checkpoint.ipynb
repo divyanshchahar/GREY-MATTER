{
 "cells": [
  {
   "cell_type": "markdown",
   "metadata": {},
   "source": [
    "<h1> <u> STATISTICS - CHAPTER-3 - DEMO-1 </u> </h1>\n",
    "<h2> <u> Log of Odds </u> </h2>\n",
    "\n",
    "This notebook will demonstrate how the following Calculations can be performed from Favourable and Un-favourable Outcomes:\n",
    "\n",
    "1. Probability\n",
    "2. Odds in Favour\n",
    "3. Odds Against\n",
    "4. Log of Odds(Favour)\n",
    "5. Log of Odds(Against)"
   ]
  },
  {
   "cell_type": "markdown",
   "metadata": {},
   "source": [
    "<h6> Importing Libraries </h6>"
   ]
  },
  {
   "cell_type": "code",
   "execution_count": 1,
   "metadata": {},
   "outputs": [],
   "source": [
    "import pandas as pd\n",
    "import numpy as np"
   ]
  },
  {
   "cell_type": "markdown",
   "metadata": {},
   "source": [
    "<h6> Defining Outcomes </h6> "
   ]
  },
  {
   "cell_type": "code",
   "execution_count": 2,
   "metadata": {},
   "outputs": [],
   "source": [
    "outcomes_favourable = [10, 20, 30, 40, 50, 60, 70, 80, 90]\n",
    "outcomes_against = [90, 80, 70, 60, 50, 40, 30, 20, 10]"
   ]
  },
  {
   "cell_type": "markdown",
   "metadata": {},
   "source": [
    "<h6> Calculating Probability and Odds </h6>"
   ]
  },
  {
   "cell_type": "code",
   "execution_count": 3,
   "metadata": {},
   "outputs": [],
   "source": [
    "probability = []\n",
    "odds_favourable = []\n",
    "odds_against = []\n",
    "\n",
    "# loop to perform calculations\n",
    "for i in range(0, len(outcomes_favourable)):\n",
    "    probability.append(outcomes_favourable[i]/(outcomes_favourable[i] + outcomes_against[i]))\n",
    "    odds_favourable.append(outcomes_favourable[i]/outcomes_against[i])\n",
    "    odds_against.append(outcomes_against[i]/outcomes_favourable[i])"
   ]
  },
  {
   "cell_type": "markdown",
   "metadata": {},
   "source": [
    "<h6> Calculating Log of Odds </h6>"
   ]
  },
  {
   "cell_type": "code",
   "execution_count": 4,
   "metadata": {},
   "outputs": [],
   "source": [
    "log_favourable = np.log(odds_favourable)\n",
    "log_against = np.log(odds_against)"
   ]
  },
  {
   "cell_type": "markdown",
   "metadata": {},
   "source": [
    "<h6> Creating Datasets </h6>"
   ]
  },
  {
   "cell_type": "code",
   "execution_count": 5,
   "metadata": {},
   "outputs": [],
   "source": [
    "calculation = {\"Favourable Outcomes\": outcomes_favourable,\n",
    "               \"Unfavourable Outcomes\": outcomes_against,\n",
    "               \"Probability\": probability,\n",
    "               \"Odds in Favour\": odds_favourable,\n",
    "               \"Odds Against\": odds_against,\n",
    "               \"Log of Odds(Favour)\": log_favourable,\n",
    "               \"Log of Odds(Favourable)\": log_favourable,\n",
    "               \"Log of Odds (Against)\": log_against\n",
    "              }\n",
    "\n",
    "df = pd.DataFrame(calculation)"
   ]
  },
  {
   "cell_type": "markdown",
   "metadata": {},
   "source": [
    "<h6> Displaying Datasets </h6>"
   ]
  },
  {
   "cell_type": "code",
   "execution_count": 9,
   "metadata": {},
   "outputs": [
    {
     "data": {
      "text/html": [
       "<div>\n",
       "<style scoped>\n",
       "    .dataframe tbody tr th:only-of-type {\n",
       "        vertical-align: middle;\n",
       "    }\n",
       "\n",
       "    .dataframe tbody tr th {\n",
       "        vertical-align: top;\n",
       "    }\n",
       "\n",
       "    .dataframe thead th {\n",
       "        text-align: right;\n",
       "    }\n",
       "</style>\n",
       "<table border=\"1\" class=\"dataframe\">\n",
       "  <thead>\n",
       "    <tr style=\"text-align: right;\">\n",
       "      <th></th>\n",
       "      <th>Favourable Outcomes</th>\n",
       "      <th>Unfavourable Outcomes</th>\n",
       "      <th>Probability</th>\n",
       "      <th>Odds in Favour</th>\n",
       "      <th>Odds Against</th>\n",
       "      <th>Log of Odds(Favour)</th>\n",
       "      <th>Log of Odds(Favourable)</th>\n",
       "      <th>Log of Odds (Against)</th>\n",
       "    </tr>\n",
       "  </thead>\n",
       "  <tbody>\n",
       "    <tr>\n",
       "      <th>0</th>\n",
       "      <td>10</td>\n",
       "      <td>90</td>\n",
       "      <td>0.1</td>\n",
       "      <td>0.111111</td>\n",
       "      <td>9.000000</td>\n",
       "      <td>-2.197225</td>\n",
       "      <td>-2.197225</td>\n",
       "      <td>2.197225</td>\n",
       "    </tr>\n",
       "    <tr>\n",
       "      <th>1</th>\n",
       "      <td>20</td>\n",
       "      <td>80</td>\n",
       "      <td>0.2</td>\n",
       "      <td>0.250000</td>\n",
       "      <td>4.000000</td>\n",
       "      <td>-1.386294</td>\n",
       "      <td>-1.386294</td>\n",
       "      <td>1.386294</td>\n",
       "    </tr>\n",
       "    <tr>\n",
       "      <th>2</th>\n",
       "      <td>30</td>\n",
       "      <td>70</td>\n",
       "      <td>0.3</td>\n",
       "      <td>0.428571</td>\n",
       "      <td>2.333333</td>\n",
       "      <td>-0.847298</td>\n",
       "      <td>-0.847298</td>\n",
       "      <td>0.847298</td>\n",
       "    </tr>\n",
       "    <tr>\n",
       "      <th>3</th>\n",
       "      <td>40</td>\n",
       "      <td>60</td>\n",
       "      <td>0.4</td>\n",
       "      <td>0.666667</td>\n",
       "      <td>1.500000</td>\n",
       "      <td>-0.405465</td>\n",
       "      <td>-0.405465</td>\n",
       "      <td>0.405465</td>\n",
       "    </tr>\n",
       "    <tr>\n",
       "      <th>4</th>\n",
       "      <td>50</td>\n",
       "      <td>50</td>\n",
       "      <td>0.5</td>\n",
       "      <td>1.000000</td>\n",
       "      <td>1.000000</td>\n",
       "      <td>0.000000</td>\n",
       "      <td>0.000000</td>\n",
       "      <td>0.000000</td>\n",
       "    </tr>\n",
       "    <tr>\n",
       "      <th>5</th>\n",
       "      <td>60</td>\n",
       "      <td>40</td>\n",
       "      <td>0.6</td>\n",
       "      <td>1.500000</td>\n",
       "      <td>0.666667</td>\n",
       "      <td>0.405465</td>\n",
       "      <td>0.405465</td>\n",
       "      <td>-0.405465</td>\n",
       "    </tr>\n",
       "    <tr>\n",
       "      <th>6</th>\n",
       "      <td>70</td>\n",
       "      <td>30</td>\n",
       "      <td>0.7</td>\n",
       "      <td>2.333333</td>\n",
       "      <td>0.428571</td>\n",
       "      <td>0.847298</td>\n",
       "      <td>0.847298</td>\n",
       "      <td>-0.847298</td>\n",
       "    </tr>\n",
       "    <tr>\n",
       "      <th>7</th>\n",
       "      <td>80</td>\n",
       "      <td>20</td>\n",
       "      <td>0.8</td>\n",
       "      <td>4.000000</td>\n",
       "      <td>0.250000</td>\n",
       "      <td>1.386294</td>\n",
       "      <td>1.386294</td>\n",
       "      <td>-1.386294</td>\n",
       "    </tr>\n",
       "    <tr>\n",
       "      <th>8</th>\n",
       "      <td>90</td>\n",
       "      <td>10</td>\n",
       "      <td>0.9</td>\n",
       "      <td>9.000000</td>\n",
       "      <td>0.111111</td>\n",
       "      <td>2.197225</td>\n",
       "      <td>2.197225</td>\n",
       "      <td>-2.197225</td>\n",
       "    </tr>\n",
       "  </tbody>\n",
       "</table>\n",
       "</div>"
      ],
      "text/plain": [
       "   Favourable Outcomes  Unfavourable Outcomes  Probability  Odds in Favour  \\\n",
       "0                   10                     90          0.1        0.111111   \n",
       "1                   20                     80          0.2        0.250000   \n",
       "2                   30                     70          0.3        0.428571   \n",
       "3                   40                     60          0.4        0.666667   \n",
       "4                   50                     50          0.5        1.000000   \n",
       "5                   60                     40          0.6        1.500000   \n",
       "6                   70                     30          0.7        2.333333   \n",
       "7                   80                     20          0.8        4.000000   \n",
       "8                   90                     10          0.9        9.000000   \n",
       "\n",
       "   Odds Against  Log of Odds(Favour)  Log of Odds(Favourable)  \\\n",
       "0      9.000000            -2.197225                -2.197225   \n",
       "1      4.000000            -1.386294                -1.386294   \n",
       "2      2.333333            -0.847298                -0.847298   \n",
       "3      1.500000            -0.405465                -0.405465   \n",
       "4      1.000000             0.000000                 0.000000   \n",
       "5      0.666667             0.405465                 0.405465   \n",
       "6      0.428571             0.847298                 0.847298   \n",
       "7      0.250000             1.386294                 1.386294   \n",
       "8      0.111111             2.197225                 2.197225   \n",
       "\n",
       "   Log of Odds (Against)  \n",
       "0               2.197225  \n",
       "1               1.386294  \n",
       "2               0.847298  \n",
       "3               0.405465  \n",
       "4               0.000000  \n",
       "5              -0.405465  \n",
       "6              -0.847298  \n",
       "7              -1.386294  \n",
       "8              -2.197225  "
      ]
     },
     "execution_count": 9,
     "metadata": {},
     "output_type": "execute_result"
    }
   ],
   "source": [
    "df"
   ]
  }
 ],
 "metadata": {
  "kernelspec": {
   "display_name": "Python 3",
   "language": "python",
   "name": "python3"
  },
  "language_info": {
   "codemirror_mode": {
    "name": "ipython",
    "version": 3
   },
   "file_extension": ".py",
   "mimetype": "text/x-python",
   "name": "python",
   "nbconvert_exporter": "python",
   "pygments_lexer": "ipython3",
   "version": "3.7.7"
  }
 },
 "nbformat": 4,
 "nbformat_minor": 4
}
