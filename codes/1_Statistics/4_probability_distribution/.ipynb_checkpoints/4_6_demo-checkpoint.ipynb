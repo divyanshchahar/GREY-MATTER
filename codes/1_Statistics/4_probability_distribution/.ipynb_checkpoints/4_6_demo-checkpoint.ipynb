{
 "cells": [
  {
   "cell_type": "markdown",
   "metadata": {},
   "source": [
    "<h1> <u> STATISTICS - CHAPTER-4 - DEMO-4 </u> </h1>\n",
    "<h2> <u> Normal Distribution </u> </h2>"
   ]
  },
  {
   "cell_type": "markdown",
   "metadata": {},
   "source": [
    "If the heights of a group of individuals is normally distributed with a mean of 5.5 feet and standard deviation of 0.5 feet, what is the probability that an individual selected at random will have a height of 4.5 feet?\n",
    "\n",
    "\n",
    "We know tha\n",
    "$$ \\mu = 5.5 $$\n",
    "$$ \\sigma = 0.5 $$\n",
    "$$ x =4.5 $$"
   ]
  },
  {
   "cell_type": "code",
   "execution_count": 1,
   "metadata": {},
   "outputs": [],
   "source": [
    "import math"
   ]
  },
  {
   "cell_type": "code",
   "execution_count": 2,
   "metadata": {},
   "outputs": [],
   "source": [
    "m = 5.5 #mean\n",
    "s = 0.5 # Satndard deviation\n",
    "x = 4.5 # desired value of random variable"
   ]
  },
  {
   "cell_type": "code",
   "execution_count": 3,
   "metadata": {},
   "outputs": [],
   "source": [
    "pi = math.pi\n",
    "e = math.exp(1)"
   ]
  },
  {
   "cell_type": "markdown",
   "metadata": {},
   "source": [
    "<h3> Calculating Probability Mass Function </h3>\n",
    "$$ \\boxed{P(X = x) = \\frac{1}{\\sigma \\sqrt{2 \\pi}}e^{\\frac{{-(x - \\mu)^2}}{2 {\\sigma}^2}} }$$"
   ]
  },
  {
   "cell_type": "code",
   "execution_count": 4,
   "metadata": {},
   "outputs": [],
   "source": [
    "a = (1/(s * math.sqrt(2*pi)))\n",
    "b = (-1 * pow((x - m),2)) / (2 * pow(s,2))\n",
    "p = a * pow(e,b)"
   ]
  },
  {
   "cell_type": "code",
   "execution_count": 5,
   "metadata": {},
   "outputs": [
    {
     "name": "stdout",
     "output_type": "stream",
     "text": [
      "The probability of a an individual picked at random being 4.5 feet tal is  0.10798193302637613\n"
     ]
    }
   ],
   "source": [
    "print(\"The probability of a an individual picked at random being 4.5 feet tal is \", p)"
   ]
  },
  {
   "cell_type": "markdown",
   "metadata": {},
   "source": [
    "<div class=\"alert alert-block alert-info\">\n",
    "    \n",
    "<b> Note </b>: Here we have not used any inbuilt python functionality although <b> <i> scipy </i> </b> library offers normal distribution function but it works in a different way\n",
    "    \n",
    "</div>"
   ]
  }
 ],
 "metadata": {
  "kernelspec": {
   "display_name": "Python 3",
   "language": "python",
   "name": "python3"
  },
  "language_info": {
   "codemirror_mode": {
    "name": "ipython",
    "version": 3
   },
   "file_extension": ".py",
   "mimetype": "text/x-python",
   "name": "python",
   "nbconvert_exporter": "python",
   "pygments_lexer": "ipython3",
   "version": "3.7.7"
  }
 },
 "nbformat": 4,
 "nbformat_minor": 4
}
