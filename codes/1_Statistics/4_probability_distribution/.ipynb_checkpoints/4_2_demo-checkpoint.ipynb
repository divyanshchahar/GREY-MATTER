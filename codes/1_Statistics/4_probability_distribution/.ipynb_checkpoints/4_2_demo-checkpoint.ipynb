{
 "cells": [
  {
   "cell_type": "markdown",
   "metadata": {},
   "source": [
    "<h1> <u> STATISTICS - CHAPTER-4 - DEMO-1 </u> </h1>\n",
    "<h2> <u> Poisson Distribution </u> </h2>"
   ]
  },
  {
   "cell_type": "markdown",
   "metadata": {},
   "source": [
    "If 10 customers arrive at billing counter of a supermarket in an hour, what is the probability that 15 customers would come at the billing counter in the next 1 hour?\n",
    "\n",
    "\n",
    "Here we know\n",
    "$$ \\lambda = 10 $$\n",
    "$$ x = 15 $$"
   ]
  },
  {
   "cell_type": "markdown",
   "metadata": {},
   "source": [
    "<h6> Importing Libraries </h6>"
   ]
  },
  {
   "cell_type": "code",
   "execution_count": 1,
   "metadata": {},
   "outputs": [],
   "source": [
    "from scipy.stats import poisson"
   ]
  },
  {
   "cell_type": "markdown",
   "metadata": {},
   "source": [
    "<h3> 1. Calculating Probability Mass Function </h3>\n",
    "$$ \\boxed{P(X=x) = \\frac{e^{-\\lambda} \\lambda^{x}}{x!}} $$\n",
    "$$ \\boxed{\\mu = \\frac{1}{\\lambda}} $$"
   ]
  },
  {
   "cell_type": "code",
   "execution_count": 11,
   "metadata": {},
   "outputs": [],
   "source": [
    "x = poisson.pmf(15, 10)"
   ]
  },
  {
   "cell_type": "code",
   "execution_count": 12,
   "metadata": {},
   "outputs": [
    {
     "name": "stdout",
     "output_type": "stream",
     "text": [
      "Thus the probability that 15 customers will arrive at the billing counter in next 15 seconds is  0.04861075082960534\n"
     ]
    }
   ],
   "source": [
    "print(\"Thus the probability that 15 customers will arrive at the billing counter in next 15 seconds is \",x)"
   ]
  },
  {
   "cell_type": "markdown",
   "metadata": {},
   "source": [
    "<h3> 2. Calculating Mean and Satndard Deviation</h3>\n",
    "$$ \\boxed{\\mu = \\lambda} $$\n",
    "$$ \\boxed{\\sigma = \\sqrt{\\mu}} $$"
   ]
  },
  {
   "cell_type": "code",
   "execution_count": 4,
   "metadata": {},
   "outputs": [],
   "source": [
    "v = poisson.std(15)"
   ]
  },
  {
   "cell_type": "code",
   "execution_count": 5,
   "metadata": {},
   "outputs": [],
   "source": [
    "m = poisson.mean(15)"
   ]
  },
  {
   "cell_type": "code",
   "execution_count": 6,
   "metadata": {},
   "outputs": [
    {
     "name": "stdout",
     "output_type": "stream",
     "text": [
      "The mean of the distribution is  15.0\n"
     ]
    }
   ],
   "source": [
    "print(\"The mean of the distribution is \", m)"
   ]
  },
  {
   "cell_type": "code",
   "execution_count": 7,
   "metadata": {},
   "outputs": [
    {
     "name": "stdout",
     "output_type": "stream",
     "text": [
      "The variance of the distribution is  3.872983346207417\n"
     ]
    }
   ],
   "source": [
    "print(\"The variance of the distribution is \", v)"
   ]
  }
 ],
 "metadata": {
  "kernelspec": {
   "display_name": "Python 3",
   "language": "python",
   "name": "python3"
  },
  "language_info": {
   "codemirror_mode": {
    "name": "ipython",
    "version": 3
   },
   "file_extension": ".py",
   "mimetype": "text/x-python",
   "name": "python",
   "nbconvert_exporter": "python",
   "pygments_lexer": "ipython3",
   "version": "3.7.7"
  }
 },
 "nbformat": 4,
 "nbformat_minor": 4
}
