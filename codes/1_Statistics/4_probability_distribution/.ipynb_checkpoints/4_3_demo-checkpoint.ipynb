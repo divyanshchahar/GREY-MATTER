{
 "cells": [
  {
   "cell_type": "markdown",
   "metadata": {},
   "source": [
    "<h1> <u> STATISTICS - CHAPTER-4 - DEMO-1 </u> </h1>\n",
    "<h2> <u> Poisson Distribution </u> </h2>"
   ]
  },
  {
   "cell_type": "markdown",
   "metadata": {},
   "source": [
    "Let us consider 6 unique visitors arrive at an e-commerce website every minute. What is the probability that another visitor is gonna arrive in\n",
    " - within next 5 seconds\n",
    " - after 10 second\n",
    " - exactly at 15 seconds\n",
    " \n",
    "Here \n",
    "$$ \\lambda = 6 \\mbox{ per minute} $$\n",
    "Therefore\n",
    "$$ \\mu = \\frac{1}{6}\\mbox{ minute} = 10 \\mbox{ seconds} $$\n",
    "\t"
   ]
  },
  {
   "cell_type": "markdown",
   "metadata": {},
   "source": [
    "<h6> Importing Libraries </h6>"
   ]
  },
  {
   "cell_type": "code",
   "execution_count": 1,
   "metadata": {},
   "outputs": [],
   "source": [
    "from scipy.stats import expon"
   ]
  },
  {
   "cell_type": "markdown",
   "metadata": {},
   "source": [
    "<h3> 1. Calculating Cummulative Density Function </h3>\n",
    "$$\\boxed{P(X < x) = 1 - e^{\\frac{-x}{\\mu}}} $$ "
   ]
  },
  {
   "cell_type": "code",
   "execution_count": 2,
   "metadata": {},
   "outputs": [],
   "source": [
    "x = 5\n",
    "mu = 10\n",
    "p = expon.cdf(x, 0, mu)"
   ]
  },
  {
   "cell_type": "code",
   "execution_count": 3,
   "metadata": {
    "scrolled": true
   },
   "outputs": [
    {
     "name": "stdout",
     "output_type": "stream",
     "text": [
      "The probabaility that the first customer will arrive within first 5 seconds is  0.3934693402873666\n"
     ]
    }
   ],
   "source": [
    "print(\"The probabaility that the first customer will arrive within first 5 seconds is \", p)"
   ]
  },
  {
   "cell_type": "code",
   "execution_count": 4,
   "metadata": {},
   "outputs": [],
   "source": [
    "x = 10\n",
    "mu = 10\n",
    "p = 1 - (expon.cdf(x, 0, mu))"
   ]
  },
  {
   "cell_type": "code",
   "execution_count": 5,
   "metadata": {},
   "outputs": [
    {
     "name": "stdout",
     "output_type": "stream",
     "text": [
      "The probabaility that the first customer will arrive after 10 seconds is  0.36787944117144233\n"
     ]
    }
   ],
   "source": [
    "print(\"The probabaility that the first customer will arrive after 10 seconds is \", p)"
   ]
  },
  {
   "cell_type": "markdown",
   "metadata": {},
   "source": [
    "<h3> 2. Calculating Probability Mass Function </h3>\n",
    "$$ \\boxed{P(X = x) = \\frac{e^{\\frac{-x}{\\mu}}}{\\mu}}$$"
   ]
  },
  {
   "cell_type": "code",
   "execution_count": 6,
   "metadata": {},
   "outputs": [],
   "source": [
    "x = 15\n",
    "mu = 10\n",
    "p = expon.pdf(x, 0, mu)"
   ]
  },
  {
   "cell_type": "code",
   "execution_count": 7,
   "metadata": {},
   "outputs": [
    {
     "name": "stdout",
     "output_type": "stream",
     "text": [
      "The probabaility that the first customer will arrive eaxctly in 15 seconds is 0.022313016014842982\n"
     ]
    }
   ],
   "source": [
    "print(\"The probabaility that the first customer will arrive eaxctly in 15 seconds is\", p)"
   ]
  },
  {
   "cell_type": "markdown",
   "metadata": {},
   "source": [
    "<h3> 3. Calculating Variance </h3>\n",
    "$$\\boxed{\\sigma^2 = \\frac{1}{\\lambda^2}}$$"
   ]
  },
  {
   "cell_type": "code",
   "execution_count": 8,
   "metadata": {},
   "outputs": [],
   "source": [
    "mu = 10\n",
    "v = expon.stats(loc=0, scale=mu, moments='v')"
   ]
  },
  {
   "cell_type": "code",
   "execution_count": 9,
   "metadata": {},
   "outputs": [
    {
     "name": "stdout",
     "output_type": "stream",
     "text": [
      "The variance of the dsitribution is  100.0\n"
     ]
    }
   ],
   "source": [
    "print(\"The variance of the dsitribution is \", v)"
   ]
  }
 ],
 "metadata": {
  "kernelspec": {
   "display_name": "Python 3",
   "language": "python",
   "name": "python3"
  },
  "language_info": {
   "codemirror_mode": {
    "name": "ipython",
    "version": 3
   },
   "file_extension": ".py",
   "mimetype": "text/x-python",
   "name": "python",
   "nbconvert_exporter": "python",
   "pygments_lexer": "ipython3",
   "version": "3.7.7"
  }
 },
 "nbformat": 4,
 "nbformat_minor": 4
}
