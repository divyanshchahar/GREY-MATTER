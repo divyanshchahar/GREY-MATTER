{
 "cells": [
  {
   "cell_type": "markdown",
   "metadata": {},
   "source": [
    "<h1> <u> STATISTICS - CHAPTER-4 - DEMO-4 </u> </h1>\n",
    "<h2> <u> Negative Binomial Distribution </u> </h2>"
   ]
  },
  {
   "cell_type": "markdown",
   "metadata": {},
   "source": [
    "If a basketball player makes 3 successful free throws for every 5 attempts, what is the probability that $7^{th}$ successful free throw will be made in the $13^{th}$ attempt ?\n",
    " \n",
    "We have\n",
    "\n",
    "$$ p = \\frac{3}{5} $$\n",
    "$$ x = 7 $$\n",
    "$$ k = 13 $$"
   ]
  },
  {
   "cell_type": "markdown",
   "metadata": {},
   "source": [
    "<h3> 1. Calculating Probability Mass Function </h3>\n",
    "$$ \\boxed{P(X=x) = C^{x-1}_{k-1}p^{k} (1-p)^{k-x}} $$ "
   ]
  },
  {
   "cell_type": "markdown",
   "metadata": {},
   "source": [
    "<h6> Declaring Function to Calculate Factorial </h6>"
   ]
  },
  {
   "cell_type": "code",
   "execution_count": 1,
   "metadata": {},
   "outputs": [],
   "source": [
    "def myfact(a):\n",
    "    b = 1\n",
    "    for i in range(1, a+1):\n",
    "        b = b*i\n",
    "    return(b)"
   ]
  },
  {
   "cell_type": "markdown",
   "metadata": {},
   "source": [
    "<h6> Declaring Defining Variables </h6>"
   ]
  },
  {
   "cell_type": "code",
   "execution_count": 2,
   "metadata": {},
   "outputs": [],
   "source": [
    "p = 3/5\n",
    "x = 7\n",
    "k = 13"
   ]
  },
  {
   "cell_type": "markdown",
   "metadata": {},
   "source": [
    "<h6> Calculating Factorials </h6>"
   ]
  },
  {
   "cell_type": "code",
   "execution_count": 3,
   "metadata": {},
   "outputs": [],
   "source": [
    "a = myfact(k-1)\n",
    "b = myfact(x-1)\n",
    "c = myfact(k-x)"
   ]
  },
  {
   "cell_type": "markdown",
   "metadata": {},
   "source": [
    "<h6> Calculating Probabilities </h6>"
   ]
  },
  {
   "cell_type": "code",
   "execution_count": 4,
   "metadata": {},
   "outputs": [],
   "source": [
    "r = (a /(b*c)) * pow(p,k) * pow(1-p, k-x)"
   ]
  },
  {
   "cell_type": "code",
   "execution_count": 7,
   "metadata": {
    "scrolled": true
   },
   "outputs": [
    {
     "name": "stdout",
     "output_type": "stream",
     "text": [
      "The probability that seventh successful free throw will happen on the thirteenth attemp is  0.004943086088513126\n"
     ]
    }
   ],
   "source": [
    "print(\"The probability that seventh successful free throw will happen on the thirteenth attemp is \", r)"
   ]
  },
  {
   "cell_type": "markdown",
   "metadata": {},
   "source": [
    "<div class=\"alert alert-block alert-info\">\n",
    "    \n",
    "<b> Note </b>: Here we have not used any inbuilt python functionality although <b> <i> scipy </i> </b> library offers negative binomial function but it works in a different way\n",
    "    \n",
    "</div>"
   ]
  }
 ],
 "metadata": {
  "kernelspec": {
   "display_name": "Python 3",
   "language": "python",
   "name": "python3"
  },
  "language_info": {
   "codemirror_mode": {
    "name": "ipython",
    "version": 3
   },
   "file_extension": ".py",
   "mimetype": "text/x-python",
   "name": "python",
   "nbconvert_exporter": "python",
   "pygments_lexer": "ipython3",
   "version": "3.7.7"
  }
 },
 "nbformat": 4,
 "nbformat_minor": 4
}
