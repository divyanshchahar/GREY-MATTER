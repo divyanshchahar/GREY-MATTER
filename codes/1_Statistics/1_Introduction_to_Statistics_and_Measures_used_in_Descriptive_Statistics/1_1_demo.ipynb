{
 "cells": [
  {
   "cell_type": "markdown",
   "metadata": {},
   "source": [
    "<h1> <u> STATISTICS - CHAPTER-1 - DEMO-1 </u> </h1>\n",
    "<h2> <u> Measure of Central Tendancy </u> </h2>\n",
    "\n",
    "This notebook will demonstrate various commands used in the measure of central tendancy. This notebook will concentrate on the following:\n",
    "\n",
    "1. Mean\n",
    "2. Median\n",
    "3. Mode"
   ]
  },
  {
   "cell_type": "markdown",
   "metadata": {},
   "source": [
    "<h6> Importing Libraries </h6>"
   ]
  },
  {
   "cell_type": "code",
   "execution_count": 1,
   "metadata": {},
   "outputs": [],
   "source": [
    "import pandas as pd\n",
    "import statistics as st"
   ]
  },
  {
   "cell_type": "markdown",
   "metadata": {},
   "source": [
    "<h6> Reading the Dataframe (CSV file) </h6>"
   ]
  },
  {
   "cell_type": "code",
   "execution_count": 2,
   "metadata": {
    "scrolled": true
   },
   "outputs": [
    {
     "name": "stdout",
     "output_type": "stream",
     "text": [
      "model     object\n",
      "mpg      float64\n",
      "cyl        int64\n",
      "disp     float64\n",
      "hp         int64\n",
      "drat     float64\n",
      "wt       float64\n",
      "qsec     float64\n",
      "vs         int64\n",
      "am         int64\n",
      "gear       int64\n",
      "carb       int64\n",
      "dtype: object\n"
     ]
    }
   ],
   "source": [
    "df = pd.read_csv(\"cars.csv\")\n",
    "print(df.dtypes)"
   ]
  },
  {
   "cell_type": "markdown",
   "metadata": {},
   "source": [
    "<h3> 1. Mean </h3>\n",
    "$$\\bar{x} = \\frac{1}{n}\\sum_{i=1}^{n}x_i$$\n",
    "\n",
    "$$\\bar{\\mu} = \\frac{1}{N}\\sum_{i=1}^{N}x_i$$\n",
    "\n",
    "\n",
    "where:\n",
    "\n",
    "$\\bar{\\mu} = \\mbox{Population Mean}$\n",
    "\n",
    "$\\bar{x} = \\mbox{Sample Mean}$\n",
    "\n",
    "$N = \\mbox{Population Size}$\n",
    "\n",
    "$n = \\mbox{Sample Size}$\n",
    "\n",
    "\n",
    "<br>\n",
    "\n",
    "Mean can be calculated in python as follows\n",
    "1. Using the pandas library\n",
    "    - Input: Multidimensional Data\n",
    "    - Output: Pandas Series / Single Float Value\n",
    "2. Using the statistics library\n",
    "    - Input: Cannot handle Multidimensional Data\n",
    "    - Output: Single Float Value"
   ]
  },
  {
   "cell_type": "code",
   "execution_count": 3,
   "metadata": {},
   "outputs": [
    {
     "name": "stdout",
     "output_type": "stream",
     "text": [
      "mpg      20.090625\n",
      "cyl       6.187500\n",
      "disp    230.721875\n",
      "hp      146.687500\n",
      "drat      3.596563\n",
      "wt        3.217250\n",
      "qsec     17.848750\n",
      "vs        0.437500\n",
      "am        0.406250\n",
      "gear      3.687500\n",
      "carb      2.812500\n",
      "dtype: float64\n",
      "\n",
      "\n",
      "20.090625\n",
      "\n",
      "\n",
      "\n",
      "\n",
      "Pandas Library returns an object of type: <class 'pandas.core.series.Series'>\n",
      "\n",
      "\n",
      "Statistics Library returns an object of type: <class 'float'>\n"
     ]
    }
   ],
   "source": [
    "df_mean = df.mean() # calculating mean using pandas library\n",
    "s_mean = st.mean(df[\"mpg\"]) # calculating mean using statistics library\n",
    "\n",
    "# printing values\n",
    "print(df_mean)\n",
    "print(\"\\n\")\n",
    "print(s_mean)\n",
    "\n",
    "# printing datatypes\n",
    "print(\"\\n\")\n",
    "print(\"\\n\")\n",
    "print(\"Pandas Library returns an object of type:\", type(df_mean))\n",
    "print(\"\\n\")\n",
    "print(\"Statistics Library returns an object of type:\", type(s_mean))"
   ]
  },
  {
   "cell_type": "markdown",
   "metadata": {},
   "source": [
    "<h3> 2. Median </h3>\n",
    "$$\\widetilde{x} = \\left\\{\n",
    "\t\t\t\t   \t\t\\begin{array}{ll}\n",
    "\t\t\t\t   \t\t\tx_{(n+1)/2}; \\mbox{ if n is odd}\\\\\n",
    "\t\t\t\t   \t\t\t\\frac{1}{2}\\left(x_{(n)/2} + x_{(n+1)/2}\\right); \\mbox{ if n is even}\n",
    "\t\t\t\t   \t\t\\end{array}\t\n",
    "                    \\right.\n",
    "$$\n",
    "\n",
    "Medain can be calculated in python as follows\n",
    "1. Using the pandas library\n",
    "    - Input: Multi-dimensional Data\n",
    "    - Output: Pandas Series / Single Float Value\n",
    "2. Using the statistics library\n",
    "    - Input: Cannot handle Multi-dimensional Data\n",
    "    - Output: Single Float Value"
   ]
  },
  {
   "cell_type": "code",
   "execution_count": 4,
   "metadata": {},
   "outputs": [
    {
     "name": "stdout",
     "output_type": "stream",
     "text": [
      "mpg      19.200\n",
      "cyl       6.000\n",
      "disp    196.300\n",
      "hp      123.000\n",
      "drat      3.695\n",
      "wt        3.325\n",
      "qsec     17.710\n",
      "vs        0.000\n",
      "am        0.000\n",
      "gear      4.000\n",
      "carb      2.000\n",
      "dtype: float64\n",
      "\n",
      "\n",
      "19.2\n",
      "\n",
      "\n",
      "\n",
      "\n",
      "Pandas Library returns an object of type: <class 'pandas.core.series.Series'>\n",
      "\n",
      "\n",
      "Statistics Library returns an object of type: <class 'float'>\n"
     ]
    }
   ],
   "source": [
    "df_median = df.median() # Calculation of median using pandas library\n",
    "s_median = st.median(df[\"mpg\"]) # calculating median using statistics library\n",
    "\n",
    "# printing values\n",
    "print(df_median)\n",
    "print(\"\\n\")\n",
    "print(s_median)\n",
    "\n",
    "# printing data types\n",
    "print(\"\\n\")\n",
    "print(\"\\n\")\n",
    "print(\"Pandas Library returns an object of type:\",type(df_median))\n",
    "print(\"\\n\")\n",
    "print(\"Statistics Library returns an object of type:\", type(s_median))"
   ]
  },
  {
   "cell_type": "markdown",
   "metadata": {},
   "source": [
    "<h3> 3. Mode </h3>\n",
    "\n",
    "Mode can be calculated in python as follows\n",
    "1. Using the pandas library\n",
    "    - Input: Multidimensional Data\n",
    "    - Output: Pandas Series / Single Float Value\n",
    "2. Using the statistics library\n",
    "    - Input: Cannot handle Multidimensional Data\n",
    "    - Output: Single Float Value\n",
    "\n",
    "Mode functionality of pandas library cannot be applied to the entire dataframe because Dataframe has a column named _model_ which contains _strings_ , whereas mode can only be applied to columns with numbers"
   ]
  },
  {
   "cell_type": "code",
   "execution_count": 5,
   "metadata": {},
   "outputs": [
    {
     "name": "stdout",
     "output_type": "stream",
     "text": [
      "mpg      19.200\n",
      "cyl       6.000\n",
      "disp    196.300\n",
      "hp      123.000\n",
      "drat      3.695\n",
      "wt        3.325\n",
      "qsec     17.710\n",
      "vs        0.000\n",
      "am        0.000\n",
      "gear      4.000\n",
      "carb      2.000\n",
      "dtype: float64\n",
      "\n",
      "\n",
      "8\n",
      "\n",
      "\n",
      "\n",
      "\n",
      "Pandas Library returns an object of type: <class 'pandas.core.series.Series'>\n",
      "\n",
      "\n",
      "Statistics Library returns an object of type: <class 'int'>\n"
     ]
    }
   ],
   "source": [
    "df_mode = df.median()\n",
    "s_mode = st.mode(df[\"cyl\"])\n",
    "\n",
    "# Printing values\n",
    "print(df_mode)\n",
    "print(\"\\n\")\n",
    "print(s_mode)\n",
    "\n",
    "# Printing Data Types\n",
    "print(\"\\n\")\n",
    "print(\"\\n\")\n",
    "print(\"Pandas Library returns an object of type:\",type(df_mode))\n",
    "print(\"\\n\")\n",
    "print(\"Statistics Library returns an object of type:\", type(s_mode))"
   ]
  },
  {
   "cell_type": "markdown",
   "metadata": {},
   "source": [
    "<div class=\"alert alert-box alert-info\">\n",
    "    <b>note</b> : <b> <i> pandas </i> </b> library can take multidimensional data for calculation of mean, median and mode, but <b> <i> statistics </i> </b> library cannot take multidimensioanl data as illustrated above\n",
    "</div>"
   ]
  }
 ],
 "metadata": {
  "kernelspec": {
   "display_name": "Python 3",
   "language": "python",
   "name": "python3"
  },
  "language_info": {
   "codemirror_mode": {
    "name": "ipython",
    "version": 3
   },
   "file_extension": ".py",
   "mimetype": "text/x-python",
   "name": "python",
   "nbconvert_exporter": "python",
   "pygments_lexer": "ipython3",
   "version": "3.7.7"
  }
 },
 "nbformat": 4,
 "nbformat_minor": 4
}
