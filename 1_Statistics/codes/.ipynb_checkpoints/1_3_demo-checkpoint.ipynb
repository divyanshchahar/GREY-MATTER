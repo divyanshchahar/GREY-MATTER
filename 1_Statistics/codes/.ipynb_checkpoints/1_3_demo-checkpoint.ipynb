{
 "cells": [
  {
   "cell_type": "markdown",
   "metadata": {},
   "source": [
    "<h1> <u> STATISTICS - CHAPTER-1 - DEMO-3</u> </h1>\n",
    "<h2> <u> Measure of Position </u> </h2>\n",
    "\n",
    "This notebook will illustrate the implementation of the following :\n",
    "1. Percentile\n",
    "2. Quantile\n",
    "3. Z-Score"
   ]
  },
  {
   "cell_type": "markdown",
   "metadata": {},
   "source": [
    "<h6> Importing Libraries </h6>"
   ]
  },
  {
   "cell_type": "code",
   "execution_count": 1,
   "metadata": {},
   "outputs": [],
   "source": [
    "import pandas as pd\n",
    "import scipy.stats as st\n",
    "import numpy as np"
   ]
  },
  {
   "cell_type": "markdown",
   "metadata": {},
   "source": [
    "<h6> Reading the Dataframe (CSV file) </h6>"
   ]
  },
  {
   "cell_type": "code",
   "execution_count": 2,
   "metadata": {
    "scrolled": false
   },
   "outputs": [
    {
     "name": "stdout",
     "output_type": "stream",
     "text": [
      "model     object\n",
      "mpg      float64\n",
      "cyl        int64\n",
      "disp     float64\n",
      "hp         int64\n",
      "drat     float64\n",
      "wt       float64\n",
      "qsec     float64\n",
      "vs         int64\n",
      "am         int64\n",
      "gear       int64\n",
      "carb       int64\n",
      "dtype: object\n"
     ]
    }
   ],
   "source": [
    "df = pd.read_csv(\"cars.csv\")\n",
    "print(df.dtypes)"
   ]
  },
  {
   "cell_type": "markdown",
   "metadata": {},
   "source": [
    "<h3> 1. Percentile </h3>\n",
    "\n",
    "Percentiles can be calculated in Python using _Numpy_ Library\n",
    "\n",
    "- Input: Multidimensional Data/Single Dimensional Data\n",
    "- Output: Numpy N-dimensional Array/ Numpy Float or Integer Value"
   ]
  },
  {
   "cell_type": "code",
   "execution_count": 3,
   "metadata": {},
   "outputs": [
    {
     "name": "stdout",
     "output_type": "stream",
     "text": [
      "[ 19.2 196.3]\n",
      "\n",
      "\n",
      "\n",
      "\n",
      "Numpy Library return an object of type <class 'numpy.ndarray'>\n"
     ]
    }
   ],
   "source": [
    "p = np.percentile(df[['mpg','disp']], 50, axis=0) #50th percentile of mpg and disp columns\n",
    "\n",
    "#printing  Values\n",
    "print(p)\n",
    "\n",
    "# Printing Data Types\n",
    "print(\"\\n\")\n",
    "print(\"\\n\")\n",
    "print(\"Numpy Library return an object of type\", type(p))"
   ]
  },
  {
   "cell_type": "markdown",
   "metadata": {},
   "source": [
    "<h3> 2. Quantile </h3>\n",
    "\n",
    "- Input: Multidimensional Data/Single Dimensional Data\n",
    "- Output: Pandas Series/ Numpy Float or Integer Value"
   ]
  },
  {
   "cell_type": "code",
   "execution_count": 4,
   "metadata": {},
   "outputs": [
    {
     "name": "stdout",
     "output_type": "stream",
     "text": [
      "mpg      15.42500\n",
      "cyl       4.00000\n",
      "disp    120.82500\n",
      "hp       96.50000\n",
      "drat      3.08000\n",
      "wt        2.58125\n",
      "qsec     16.89250\n",
      "vs        0.00000\n",
      "am        0.00000\n",
      "gear      3.00000\n",
      "carb      2.00000\n",
      "Name: 0.25, dtype: float64\n",
      "\n",
      "\n",
      "\n",
      "\n",
      "Numpy Library return an object of type <class 'pandas.core.series.Series'>\n"
     ]
    }
   ],
   "source": [
    "qt = df.quantile(0.25) #1st quartile or quantile of order 0.25\n",
    "\n",
    "# Printing Values\n",
    "print(qt)\n",
    "\n",
    "# Printing Data Types\n",
    "print(\"\\n\")\n",
    "print(\"\\n\")\n",
    "print(\"Numpy Library return an object of type\", type(qt))"
   ]
  },
  {
   "cell_type": "markdown",
   "metadata": {},
   "source": [
    "<h3> 3. Z-score </h3>\n",
    "\n",
    "Z-Score can be calculated in Python using _Scipy_ Library\n",
    "\n",
    "- Input: Multidimensional Data/Single Dimensional Data\n",
    "- Output: Numpy N-dimensional Array"
   ]
  },
  {
   "cell_type": "code",
   "execution_count": 5,
   "metadata": {},
   "outputs": [
    {
     "name": "stdout",
     "output_type": "stream",
     "text": [
      "[[ 0.15329914 -0.57975032]\n",
      " [ 0.15329914 -0.57975032]\n",
      " [ 0.4567366  -1.00602601]\n",
      " [ 0.22072968  0.22361542]\n",
      " [-0.23442651  1.05977159]\n",
      " [-0.33557233 -0.0469057 ]\n",
      " [-0.97616253  1.05977159]\n",
      " [ 0.72645879 -0.68877852]\n",
      " [ 0.4567366  -0.73714442]\n",
      " [-0.15013833 -0.51744848]\n",
      " [-0.38614524 -0.51744848]\n",
      " [-0.62215216  0.36953287]\n",
      " [-0.47043343  0.36953287]\n",
      " [-0.8244438   0.36953287]\n",
      " [-1.63361037  1.97790385]\n",
      " [-1.63361037  1.87953254]\n",
      " [-0.90873199  1.71558035]\n",
      " [ 2.07506974 -1.24621597]\n",
      " [ 1.737917   -1.2708088 ]\n",
      " [ 2.32793429 -1.3085178 ]\n",
      " [ 0.23758732 -0.90683494]\n",
      " [-0.77387089  0.71547199]\n",
      " [-0.8244438   0.60070545]\n",
      " [-1.1447389   0.97779549]\n",
      " [-0.15013833  1.38767597]\n",
      " [ 1.21533026 -1.24375669]\n",
      " [ 0.99618098 -0.90519541]\n",
      " [ 1.737917   -1.11177517]\n",
      " [-0.72329798  0.9859931 ]\n",
      " [-0.06585014 -0.70271446]\n",
      " [-0.85815908  0.57611263]\n",
      " [ 0.22072968 -0.89945709]]\n",
      "\n",
      "\n",
      "\n",
      "\n",
      "Numpy Library return an object of type <class 'numpy.ndarray'>\n"
     ]
    }
   ],
   "source": [
    "z = st.zscore(df[['mpg','disp']], axis=0) #z-score of each element in the mpg column\n",
    "\n",
    "# Printing Z-Score\n",
    "print(z)\n",
    "\n",
    "# Printing Data Types\n",
    "print(\"\\n\")\n",
    "print(\"\\n\")\n",
    "print(\"Numpy Library return an object of type\", type(z))"
   ]
  }
 ],
 "metadata": {
  "kernelspec": {
   "display_name": "Python 3",
   "language": "python",
   "name": "python3"
  },
  "language_info": {
   "codemirror_mode": {
    "name": "ipython",
    "version": 3
   },
   "file_extension": ".py",
   "mimetype": "text/x-python",
   "name": "python",
   "nbconvert_exporter": "python",
   "pygments_lexer": "ipython3",
   "version": "3.7.7"
  }
 },
 "nbformat": 4,
 "nbformat_minor": 2
}
