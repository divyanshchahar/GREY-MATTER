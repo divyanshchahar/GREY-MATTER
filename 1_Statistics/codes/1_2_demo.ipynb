{
 "cells": [
  {
   "cell_type": "markdown",
   "metadata": {},
   "source": [
    "<h1> <u> STATISTICS - CHAPTER-1 - DEMO-2 </u> </h1>\n",
    "<h2> <u> Measure of Dispersion </u> </h2>\n",
    "\n",
    "This notebook will illustrate the implementation of the following :\n",
    "1. Range\n",
    "2. Inter Quartile Range\n",
    "3. Standard Deviation\n",
    "4. Variance\n",
    "5. Cofficient of Variance"
   ]
  },
  {
   "cell_type": "markdown",
   "metadata": {},
   "source": [
    "<h6> Importing Libraries </h6>"
   ]
  },
  {
   "cell_type": "code",
   "execution_count": 1,
   "metadata": {},
   "outputs": [],
   "source": [
    "import pandas as pd\n",
    "import scipy.stats as st\n",
    "import numpy as np"
   ]
  },
  {
   "cell_type": "markdown",
   "metadata": {},
   "source": [
    "<h6> Reading the Dataframe (CSV file) </h6>"
   ]
  },
  {
   "cell_type": "code",
   "execution_count": 2,
   "metadata": {
    "scrolled": false
   },
   "outputs": [
    {
     "name": "stdout",
     "output_type": "stream",
     "text": [
      "model     object\n",
      "mpg      float64\n",
      "cyl        int64\n",
      "disp     float64\n",
      "hp         int64\n",
      "drat     float64\n",
      "wt       float64\n",
      "qsec     float64\n",
      "vs         int64\n",
      "am         int64\n",
      "gear       int64\n",
      "carb       int64\n",
      "dtype: object\n"
     ]
    }
   ],
   "source": [
    "df = pd.read_csv(\"cars.csv\")\n",
    "print(df.dtypes)"
   ]
  },
  {
   "cell_type": "markdown",
   "metadata": {},
   "source": [
    "<h3> 1. Range </h3>\n",
    "\n",
    "$$ Range  = x_{max} - x_{min}$$\n",
    "\n",
    "Inter Quartile Range can be calculated using the _Scipy_ Library\n",
    "<br>\n",
    "- Input: Multidimensional Data/Single Dimensional Data\n",
    "- Output: Numpy N-dimensional Array/ Numpy Float or Integer Value"
   ]
  },
  {
   "cell_type": "code",
   "execution_count": 3,
   "metadata": {
    "scrolled": true
   },
   "outputs": [
    {
     "name": "stdout",
     "output_type": "stream",
     "text": [
      "[ 23.5     4.    400.9   283.      2.17    3.911   8.4     1.      1.\n",
      "   2.      7.   ]\n",
      "\n",
      "\n",
      "Scipy Library Returns an object of type: <class 'numpy.ndarray'>\n"
     ]
    }
   ],
   "source": [
    "df1 = df.drop([\"model\"], axis=1)\n",
    "r = np.ptp(df1.values, axis=0)\n",
    "print(r)\n",
    "\n",
    "# Printing Data-Types\n",
    "print(\"\\n\")\n",
    "print(\"Scipy Library Returns an object of type:\", type(r))"
   ]
  },
  {
   "cell_type": "markdown",
   "metadata": {},
   "source": [
    "<h3> 2. Inter Quartile Range </h3>\n",
    "\n",
    "$$ IQR = Q_3 - Q_1 $$\n",
    "\n",
    "where:\n",
    "\n",
    "$ Q_3 = x_{\\frac{3}{4}(n+1)} $\n",
    "\n",
    "$ Q_1 = x_{\\frac{1}{4}(n+1)} $\n",
    "<br>\n",
    "<br>\n",
    "if n is odd\n",
    "<hr>\n",
    "$ Q_3 = \\frac{x_{\\frac{3}{4}n} +  x_{\\frac{3}{4}n+1}}{2}$\n",
    "\n",
    "$ Q_1 = \\frac{x_{\\frac{1}{4}n} +  x_{\\frac{1}{4}n+1}}{2}$\n",
    "<br>\n",
    "<br>\n",
    "if n is even\n",
    "<br>\n",
    "<br>\n",
    "<br>\n",
    "<br>\n",
    "Inter Quartile Range can be calculated using the _Scipy_ Library\n",
    "<br>\n",
    "- Input: Multidimensional Data/Single Dimensional Data\n",
    "- Output: Numpy N-dimensional Array/ Numpy Float or Integer Value"
   ]
  },
  {
   "cell_type": "code",
   "execution_count": 4,
   "metadata": {
    "scrolled": false
   },
   "outputs": [
    {
     "name": "stdout",
     "output_type": "stream",
     "text": [
      "[  7.375     4.      205.175    83.5       0.84      1.02875   2.0075\n",
      "   1.        1.        1.        2.     ]\n",
      "\n",
      "\n",
      "7.375\n",
      "\n",
      "\n",
      "\n",
      "\n",
      "Scipy Library Returns an object of type: <class 'numpy.ndarray'>\n",
      "\n",
      "\n",
      "Scipy Library Returns an object of type: <class 'numpy.float64'>\n"
     ]
    }
   ],
   "source": [
    "iqr1 = st.iqr(df1[[\"mpg\", \"cyl\", \"disp\", \"hp\", \"drat\", \"wt\", \"qsec\", \"vs\", \"am\", \"gear\", \"carb\"]], axis=0)\n",
    "iqr2 = st.iqr(df1[\"mpg\"], axis=0)\n",
    "\n",
    "# Printing Values\n",
    "print(iqr1)\n",
    "print(\"\\n\")\n",
    "print(iqr2)\n",
    "\n",
    "\n",
    "# Printing Data Types\n",
    "print(\"\\n\")\n",
    "print(\"\\n\")\n",
    "print(\"Scipy Library Returns an object of type:\", type(iqr1))\n",
    "print(\"\\n\")\n",
    "print(\"Scipy Library Returns an object of type:\", type(iqr2))"
   ]
  },
  {
   "cell_type": "markdown",
   "metadata": {},
   "source": [
    "<h3> 3. Standard Deviation </h3>\n",
    "\n",
    "$$ \\sigma = \\sqrt{\\frac{1}{N}\\sum_{i=1}^{N}\\left({x_i - \\mu}\\right)^2}$$\n",
    "<br>\n",
    "$$ S = \\sqrt{\\frac{1}{n-1}\\sum_{i=1}^{n}\\left({x_i - \\bar{x}}\\right)^2}$$\n",
    "\n",
    "where:\n",
    "<br>\n",
    "$\\sigma = \\mbox{Population Standard Deviation}$\n",
    "<br>\n",
    "$S = \\mbox{Sample Standard Deviation}$\n",
    "<br>\n",
    "$N = \\mbox{Population Size}$\n",
    "<br>\n",
    "$n = \\mbox{Sample Size}$\n",
    "<br>\n",
    "$\\mu = \\mbox{Populattion Mean}$\n",
    "<br>\n",
    "$\\bar{x} = \\mbox{Sample Mean}$\n",
    "\n",
    "\n",
    "Standard deviation can be calculated using the _Numpy_ Library\n",
    "\n",
    "- Input: Multidimensional Data/Single Dimensional data\n",
    "- Output: Numpy N-dimensional Array/ Numpy Float or Integer Value\n",
    "<br>\n",
    "<br>\n",
    "\n",
    "<div class=\"alert alert-block alert-info\">\n",
    "    \n",
    "<b> Note </b>: In order to calculate the <b><i>Sample Standard Deviation</i></b>, we will use the <b> <i>ddof<i> </b> option of <b> <i>std</i></b> function. Setting <i> <b> ddof = 1 </b></i> will ensure that the furmulae for sample standard deviaition is used.\n",
    "    \n",
    "</div>"
   ]
  },
  {
   "cell_type": "code",
   "execution_count": 5,
   "metadata": {
    "scrolled": false
   },
   "outputs": [
    {
     "name": "stdout",
     "output_type": "stream",
     "text": [
      "mpg       5.932030\n",
      "cyl       1.757795\n",
      "disp    121.986781\n",
      "hp       67.483071\n",
      "drat      0.526258\n",
      "wt        0.963048\n",
      "qsec      1.758801\n",
      "vs        0.496078\n",
      "am        0.491132\n",
      "gear      0.726184\n",
      "carb      1.589762\n",
      "dtype: float64\n",
      "\n",
      "\n",
      "mpg       6.026948\n",
      "cyl       1.785922\n",
      "disp    123.938694\n",
      "hp       68.562868\n",
      "drat      0.534679\n",
      "wt        0.978457\n",
      "qsec      1.786943\n",
      "vs        0.504016\n",
      "am        0.498991\n",
      "gear      0.737804\n",
      "carb      1.615200\n",
      "dtype: float64\n",
      "\n",
      "\n",
      "\n",
      "\n",
      "Scipy Library Returns an object of type: <class 'pandas.core.series.Series'>\n",
      "\n",
      "\n",
      "Scipy Library Returns an object of type: <class 'pandas.core.series.Series'>\n"
     ]
    }
   ],
   "source": [
    "sd_population = np.std(df1[[\"mpg\", \"cyl\", \"disp\", \"hp\", \"drat\", \"wt\", \"qsec\", \"vs\", \"am\", \"gear\", \"carb\"]], axis=0)\n",
    "sd_sample = np.std(df1[[\"mpg\", \"cyl\", \"disp\", \"hp\", \"drat\", \"wt\", \"qsec\", \"vs\", \"am\", \"gear\", \"carb\"]], axis=0, ddof=1)\n",
    "\n",
    "# Printing Values\n",
    "print(sd_population)\n",
    "print(\"\\n\")\n",
    "print(sd_sample)\n",
    "\n",
    "# Printing Data Types\n",
    "print(\"\\n\")\n",
    "print(\"\\n\")\n",
    "print(\"Scipy Library Returns an object of type:\", type(sd_population))\n",
    "print(\"\\n\")\n",
    "print(\"Scipy Library Returns an object of type:\", type(sd_sample))"
   ]
  },
  {
   "cell_type": "markdown",
   "metadata": {},
   "source": [
    "<h3> 4. Variance </h3>\n",
    "\n",
    "$$ S^2 = \\frac{1}{n-1}\\sum_{i=1}^{n}\\left({x_i - \\bar{x}}\\right)^2$$\n",
    "$$ \\sigma^2 = \\frac{1}{N}\\sum_{i=1}^{N}\\left({x_i - \\mu}\\right)^2$$\n",
    "\n",
    "where:\n",
    "<br>\n",
    "$S^2 = \\mbox{Sample Variance}$\n",
    "<br>\n",
    "$\\sigma^2 = \\mbox{Population Variance}$\n",
    "<br>\n",
    "$n = \\mbox{Sample Size}$\n",
    "<br>\n",
    "$N = \\mbox{Population Size}$\n",
    "<br>\n",
    "$\\bar{x} = \\mbox{Sample Mean}$\n",
    "<br>\n",
    "$\\mu = \\mbox{Populattion Mean}$\n",
    "\n",
    "\n",
    "\n",
    "Variance can be calculated using the _Numpy_ Library\n",
    "\n",
    "- Input: Multidimensional Data/Single Dimensional data\n",
    "- Output: Numpy N-dimensional Array/ Numpy Float or Integer Value\n",
    "\n",
    "<div class=\"alert alert-block alert-info\">\n",
    "    <b> Note </b>: In order to calculate the <b><i>Sample Variance</i></b>, we will use the <b> <i>ddof<i> </b> option of <b> <i>var</i></b>  function. Setting <i> <b> ddof = 1 </b></i> will ensure that the furmulae for <b><i>Sample Variance</i></b> is used.\n",
    "    \n",
    "</div>"
   ]
  }
 ],
 "metadata": {
  "kernelspec": {
   "display_name": "Python 3",
   "language": "python",
   "name": "python3"
  },
  "language_info": {
   "codemirror_mode": {
    "name": "ipython",
    "version": 3
   },
   "file_extension": ".py",
   "mimetype": "text/x-python",
   "name": "python",
   "nbconvert_exporter": "python",
   "pygments_lexer": "ipython3",
   "version": "3.7.7"
  }
 },
 "nbformat": 4,
 "nbformat_minor": 4
}
